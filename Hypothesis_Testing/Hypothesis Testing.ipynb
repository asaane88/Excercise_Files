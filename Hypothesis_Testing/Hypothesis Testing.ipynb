{
 "cells": [
  {
   "cell_type": "code",
   "execution_count": 1,
   "metadata": {},
   "outputs": [],
   "source": [
    "#Hypothesis Testing , T-Testing\n",
    "#creating random data set of different weights for individuals \n",
    "average_weight = [33,34,35,36,32,28,29,30,31,37,36,35,33,34,31,40,24]"
   ]
  },
  {
   "cell_type": "raw",
   "metadata": {},
   "source": [
    "Hypothesis testing is all about assumption we create. \n",
    "1. Average weight in class 12th is 35, Means Hypothesized mean is 35 \n",
    "2. Null Hypothesis , H0 = Average age in class 12th is 35 \n",
    "3. Alt Hypothesis , Ha = Average age in class 12th is not 35"
   ]
  },
  {
   "cell_type": "code",
   "execution_count": 2,
   "metadata": {},
   "outputs": [],
   "source": [
    "from scipy import stats #importing stats package"
   ]
  },
  {
   "cell_type": "raw",
   "metadata": {},
   "source": [
    "One Sample T-Test One Sample T-test is used for one parameter as seen in example we are looking to verify whether avarage age in class 12th is 35\n",
    "or not"
   ]
  },
  {
   "cell_type": "code",
   "execution_count": 5,
   "metadata": {},
   "outputs": [
    {
     "data": {
      "text/plain": [
       "Ttest_1sampResult(statistic=-2.354253623010381, pvalue=0.03166804359862131)"
      ]
     },
     "execution_count": 5,
     "metadata": {},
     "output_type": "execute_result"
    }
   ],
   "source": [
    "stats.ttest_1samp(average_weight,35)"
   ]
  },
  {
   "cell_type": "raw",
   "metadata": {},
   "source": [
    "P value = 0.031 = 3.1%, This means that the probablity (or chance) of avaerage_weight 35 is only 3.1%. \n",
    "That is our Null Hypothesis is Wrong. \n",
    "Generalizing, if P value < 5 % , we REJECT Null Hypothesis. \n",
    "In our example, we REJECT H0, and conclude Ha that average_age in class 12th is NOT 35"
   ]
  },
  {
   "cell_type": "raw",
   "metadata": {},
   "source": [
    "Two sample Independent T-test \n",
    "Used for comparing two parameters & to verify our assumptions."
   ]
  },
  {
   "cell_type": "code",
   "execution_count": 6,
   "metadata": {},
   "outputs": [],
   "source": [
    "#creating an random data set of student in class 11th with each student weight \n",
    "average_weight1 = [29,31,28,33,31,34,32,20,32,28,27,26,30,31,34,30]"
   ]
  },
  {
   "cell_type": "code",
   "execution_count": 7,
   "metadata": {},
   "outputs": [
    {
     "data": {
      "text/plain": [
       "[33, 34, 35, 36, 32, 28, 29, 30, 31, 37, 36, 35, 33, 34, 31, 40, 24]"
      ]
     },
     "execution_count": 7,
     "metadata": {},
     "output_type": "execute_result"
    }
   ],
   "source": [
    "average_weight #average weight of class 12th student as seen in One-Sample T-Test"
   ]
  },
  {
   "cell_type": "raw",
   "metadata": {},
   "source": [
    "creating our assumptions \n",
    "Null Hypothesis , H0 = Avaerage_weight of class 12th & class 11th student is same.\n",
    "Alt Hypothesis , Ha = Avaerage_weight of class 12th & class 11th student is same."
   ]
  },
  {
   "cell_type": "code",
   "execution_count": 8,
   "metadata": {},
   "outputs": [
    {
     "data": {
      "text/plain": [
       "Ttest_indResult(statistic=2.404544177024533, pvalue=0.022355127034138323)"
      ]
     },
     "execution_count": 8,
     "metadata": {},
     "output_type": "execute_result"
    }
   ],
   "source": [
    "stats.ttest_ind(average_weight,average_weight1)"
   ]
  },
  {
   "cell_type": "raw",
   "metadata": {},
   "source": [
    "P value = 0.022 = 2.2%, This means that the probablity (or chance) of average_weight of class 12th & class 11th students is same is only 2.2%. \n",
    "Null Hypothesis is Wrong. We REJECT Null Hypothesis. \n",
    "Concluding,Average_weigth of class 12th & class 11th student is not same."
   ]
  },
  {
   "cell_type": "raw",
   "metadata": {},
   "source": [
    "Two Sample paired (or Relational) T - test\n",
    "We use Two Sample paired T-Test with keep in mind in simple way to check the effect before & after."
   ]
  },
  {
   "cell_type": "raw",
   "metadata": {},
   "source": [
    "Studying effect of metaphor medicine on headache for individual who are suffering from migrain.\n",
    "let's create random data set of individuals who are suffering from headache & we have given them two medicines one is paracetamol & another is metaphor,took the reading before having metaphor & after having metaphor."
   ]
  },
  {
   "cell_type": "code",
   "execution_count": 9,
   "metadata": {},
   "outputs": [],
   "source": [
    "#let's create random data set of individuals who are suffering from headache & we have given them two medic \n",
    "before_metaphor = [68,45,46,34,23,67,80,120,34,54,68] \n",
    "after_metaphor = [28,25,26,24,13,37,30,30,54,34,38]"
   ]
  },
  {
   "cell_type": "raw",
   "metadata": {},
   "source": [
    "H NULL = H0 = Response times before and after metaphor are same. This means Metaphor has NO EFFECT \n",
    "H Alternative = Ha = Response times before and after Metaphor are NOT same. This means Metaphor has EFFECT"
   ]
  },
  {
   "cell_type": "code",
   "execution_count": 10,
   "metadata": {},
   "outputs": [
    {
     "data": {
      "text/plain": [
       "Ttest_relResult(statistic=3.2771720738937873, pvalue=0.00832867082029929)"
      ]
     },
     "execution_count": 10,
     "metadata": {},
     "output_type": "execute_result"
    }
   ],
   "source": [
    "stats.ttest_rel(before_metaphor,after_metaphor)"
   ]
  },
  {
   "cell_type": "raw",
   "metadata": {},
   "source": [
    "P value = 0.008, 0.8% . P < 5%, So we reject H0 and accept Ha, \n",
    "This means Metaphor has EFFECT on migrain suffered individuls"
   ]
  },
  {
   "cell_type": "markdown",
   "metadata": {},
   "source": [
    "# T-Test Example (Bike-Sharing Dataset)"
   ]
  },
  {
   "cell_type": "raw",
   "metadata": {},
   "source": [
    "#T- Test\n",
    "T-test is mostly used to check the difference in the means of two samples"
   ]
  },
  {
   "cell_type": "code",
   "execution_count": 11,
   "metadata": {},
   "outputs": [
    {
     "name": "stdout",
     "output_type": "stream",
     "text": [
      "Collecting researchpy\n",
      "  Downloading researchpy-0.1.9-py3-none-any.whl (9.7 kB)\n",
      "Requirement already satisfied: numpy in c:\\users\\dell\\anaconda3\\lib\\site-packages (from researchpy) (1.18.1)\n",
      "Requirement already satisfied: pandas in c:\\users\\dell\\anaconda3\\lib\\site-packages (from researchpy) (1.0.2)\n",
      "Requirement already satisfied: statsmodels in c:\\users\\dell\\anaconda3\\lib\\site-packages (from researchpy) (0.11.0)\n",
      "Requirement already satisfied: scipy in c:\\users\\dell\\anaconda3\\lib\\site-packages (from researchpy) (1.4.1)\n",
      "Requirement already satisfied: pytz>=2017.2 in c:\\users\\dell\\anaconda3\\lib\\site-packages (from pandas->researchpy) (2019.3)\n",
      "Requirement already satisfied: python-dateutil>=2.6.1 in c:\\users\\dell\\anaconda3\\lib\\site-packages (from pandas->researchpy) (2.8.1)\n",
      "Requirement already satisfied: patsy>=0.5 in c:\\users\\dell\\anaconda3\\lib\\site-packages (from statsmodels->researchpy) (0.5.1)\n",
      "Requirement already satisfied: six>=1.5 in c:\\users\\dell\\anaconda3\\lib\\site-packages (from python-dateutil>=2.6.1->pandas->researchpy) (1.14.0)\n",
      "Installing collected packages: researchpy\n",
      "Successfully installed researchpy-0.1.9\n"
     ]
    }
   ],
   "source": [
    "#install researchpy \n",
    "!pip install researchpy \n",
    "## it combines pandas, scipy.stats and statsmodels to ##get more complete information in a single API call"
   ]
  },
  {
   "cell_type": "code",
   "execution_count": 13,
   "metadata": {},
   "outputs": [],
   "source": [
    "#import the libraries \n",
    "import statsmodels.api as sm \n",
    "import pandas as pd \n",
    "import numpy as np \n",
    "import seaborn as sns \n",
    "import matplotlib.pyplot as plt \n",
    "from sklearn.preprocessing import scale \n",
    "import researchpy as rc \n",
    "import warnings\n",
    "from scipy import stats \n",
    "%matplotlib inline"
   ]
  },
  {
   "cell_type": "code",
   "execution_count": 14,
   "metadata": {},
   "outputs": [],
   "source": [
    "#read the data \n",
    "df = pd.read_csv('bike_sharing.csv')"
   ]
  },
  {
   "cell_type": "code",
   "execution_count": 15,
   "metadata": {},
   "outputs": [
    {
     "data": {
      "text/plain": [
       "(10886, 12)"
      ]
     },
     "execution_count": 15,
     "metadata": {},
     "output_type": "execute_result"
    }
   ],
   "source": [
    "#check the shape \n",
    "df.shape"
   ]
  },
  {
   "cell_type": "code",
   "execution_count": 16,
   "metadata": {},
   "outputs": [
    {
     "data": {
      "text/html": [
       "<div>\n",
       "<style scoped>\n",
       "    .dataframe tbody tr th:only-of-type {\n",
       "        vertical-align: middle;\n",
       "    }\n",
       "\n",
       "    .dataframe tbody tr th {\n",
       "        vertical-align: top;\n",
       "    }\n",
       "\n",
       "    .dataframe thead th {\n",
       "        text-align: right;\n",
       "    }\n",
       "</style>\n",
       "<table border=\"1\" class=\"dataframe\">\n",
       "  <thead>\n",
       "    <tr style=\"text-align: right;\">\n",
       "      <th></th>\n",
       "      <th>datetime</th>\n",
       "      <th>season</th>\n",
       "      <th>holiday</th>\n",
       "      <th>workingday</th>\n",
       "      <th>weather</th>\n",
       "      <th>temp</th>\n",
       "      <th>atemp</th>\n",
       "      <th>humidity</th>\n",
       "      <th>windspeed</th>\n",
       "      <th>casual</th>\n",
       "      <th>registered</th>\n",
       "      <th>count</th>\n",
       "    </tr>\n",
       "  </thead>\n",
       "  <tbody>\n",
       "    <tr>\n",
       "      <th>0</th>\n",
       "      <td>2011-01-01 00:00:00</td>\n",
       "      <td>1</td>\n",
       "      <td>0</td>\n",
       "      <td>0</td>\n",
       "      <td>1</td>\n",
       "      <td>9.84</td>\n",
       "      <td>14.395</td>\n",
       "      <td>81</td>\n",
       "      <td>0.0</td>\n",
       "      <td>3</td>\n",
       "      <td>13</td>\n",
       "      <td>16</td>\n",
       "    </tr>\n",
       "    <tr>\n",
       "      <th>1</th>\n",
       "      <td>2011-01-01 01:00:00</td>\n",
       "      <td>1</td>\n",
       "      <td>0</td>\n",
       "      <td>0</td>\n",
       "      <td>1</td>\n",
       "      <td>9.02</td>\n",
       "      <td>13.635</td>\n",
       "      <td>80</td>\n",
       "      <td>0.0</td>\n",
       "      <td>8</td>\n",
       "      <td>32</td>\n",
       "      <td>40</td>\n",
       "    </tr>\n",
       "    <tr>\n",
       "      <th>2</th>\n",
       "      <td>2011-01-01 02:00:00</td>\n",
       "      <td>1</td>\n",
       "      <td>0</td>\n",
       "      <td>0</td>\n",
       "      <td>1</td>\n",
       "      <td>9.02</td>\n",
       "      <td>13.635</td>\n",
       "      <td>80</td>\n",
       "      <td>0.0</td>\n",
       "      <td>5</td>\n",
       "      <td>27</td>\n",
       "      <td>32</td>\n",
       "    </tr>\n",
       "    <tr>\n",
       "      <th>3</th>\n",
       "      <td>2011-01-01 03:00:00</td>\n",
       "      <td>1</td>\n",
       "      <td>0</td>\n",
       "      <td>0</td>\n",
       "      <td>1</td>\n",
       "      <td>9.84</td>\n",
       "      <td>14.395</td>\n",
       "      <td>75</td>\n",
       "      <td>0.0</td>\n",
       "      <td>3</td>\n",
       "      <td>10</td>\n",
       "      <td>13</td>\n",
       "    </tr>\n",
       "    <tr>\n",
       "      <th>4</th>\n",
       "      <td>2011-01-01 04:00:00</td>\n",
       "      <td>1</td>\n",
       "      <td>0</td>\n",
       "      <td>0</td>\n",
       "      <td>1</td>\n",
       "      <td>9.84</td>\n",
       "      <td>14.395</td>\n",
       "      <td>75</td>\n",
       "      <td>0.0</td>\n",
       "      <td>0</td>\n",
       "      <td>1</td>\n",
       "      <td>1</td>\n",
       "    </tr>\n",
       "  </tbody>\n",
       "</table>\n",
       "</div>"
      ],
      "text/plain": [
       "              datetime  season  holiday  workingday  weather  temp   atemp  \\\n",
       "0  2011-01-01 00:00:00       1        0           0        1  9.84  14.395   \n",
       "1  2011-01-01 01:00:00       1        0           0        1  9.02  13.635   \n",
       "2  2011-01-01 02:00:00       1        0           0        1  9.02  13.635   \n",
       "3  2011-01-01 03:00:00       1        0           0        1  9.84  14.395   \n",
       "4  2011-01-01 04:00:00       1        0           0        1  9.84  14.395   \n",
       "\n",
       "   humidity  windspeed  casual  registered  count  \n",
       "0        81        0.0       3          13     16  \n",
       "1        80        0.0       8          32     40  \n",
       "2        80        0.0       5          27     32  \n",
       "3        75        0.0       3          10     13  \n",
       "4        75        0.0       0           1      1  "
      ]
     },
     "execution_count": 16,
     "metadata": {},
     "output_type": "execute_result"
    }
   ],
   "source": [
    "#check the head \n",
    "df.head()"
   ]
  },
  {
   "cell_type": "code",
   "execution_count": 17,
   "metadata": {},
   "outputs": [
    {
     "name": "stdout",
     "output_type": "stream",
     "text": [
      "<class 'pandas.core.frame.DataFrame'>\n",
      "RangeIndex: 10886 entries, 0 to 10885\n",
      "Data columns (total 12 columns):\n",
      " #   Column      Non-Null Count  Dtype  \n",
      "---  ------      --------------  -----  \n",
      " 0   datetime    10886 non-null  object \n",
      " 1   season      10886 non-null  int64  \n",
      " 2   holiday     10886 non-null  int64  \n",
      " 3   workingday  10886 non-null  int64  \n",
      " 4   weather     10886 non-null  int64  \n",
      " 5   temp        10886 non-null  float64\n",
      " 6   atemp       10886 non-null  float64\n",
      " 7   humidity    10886 non-null  int64  \n",
      " 8   windspeed   10886 non-null  float64\n",
      " 9   casual      10886 non-null  int64  \n",
      " 10  registered  10886 non-null  int64  \n",
      " 11  count       10886 non-null  int64  \n",
      "dtypes: float64(3), int64(8), object(1)\n",
      "memory usage: 1020.7+ KB\n"
     ]
    }
   ],
   "source": [
    "#check the information \n",
    "df.info()"
   ]
  },
  {
   "cell_type": "code",
   "execution_count": 18,
   "metadata": {},
   "outputs": [
    {
     "data": {
      "text/plain": [
       "datetime      0\n",
       "season        0\n",
       "holiday       0\n",
       "workingday    0\n",
       "weather       0\n",
       "temp          0\n",
       "atemp         0\n",
       "humidity      0\n",
       "windspeed     0\n",
       "casual        0\n",
       "registered    0\n",
       "count         0\n",
       "dtype: int64"
      ]
     },
     "execution_count": 18,
     "metadata": {},
     "output_type": "execute_result"
    }
   ],
   "source": [
    "#check the number of null values in each column \n",
    "df.isnull().sum()"
   ]
  },
  {
   "cell_type": "code",
   "execution_count": 19,
   "metadata": {},
   "outputs": [
    {
     "data": {
      "text/plain": [
       "0.984948110481707"
      ]
     },
     "execution_count": 19,
     "metadata": {},
     "output_type": "execute_result"
    }
   ],
   "source": [
    "df['atemp'].corr(df['temp']) #atemp and temp are correlated"
   ]
  },
  {
   "cell_type": "raw",
   "metadata": {},
   "source": [
    "Atemp and temp has correlation of 0.985. They are providing the same information. \n",
    "We will drop the atemp feature and also datetime for our simplicity."
   ]
  },
  {
   "cell_type": "code",
   "execution_count": 20,
   "metadata": {},
   "outputs": [],
   "source": [
    "#drop datetime \n",
    "df.drop(['datetime','atemp'],axis = 1,inplace=True)"
   ]
  },
  {
   "cell_type": "code",
   "execution_count": 21,
   "metadata": {},
   "outputs": [
    {
     "data": {
      "text/plain": [
       "season          4\n",
       "holiday         2\n",
       "workingday      2\n",
       "weather         4\n",
       "temp           49\n",
       "humidity       89\n",
       "windspeed      28\n",
       "casual        309\n",
       "registered    731\n",
       "count         822\n",
       "dtype: int64"
      ]
     },
     "execution_count": 21,
     "metadata": {},
     "output_type": "execute_result"
    }
   ],
   "source": [
    "#check the unique values in each column \n",
    "df.apply(lambda x : x.nunique())"
   ]
  },
  {
   "cell_type": "code",
   "execution_count": 22,
   "metadata": {},
   "outputs": [],
   "source": [
    "#standardize all the numerical features \n",
    "num_scaled = scale (df[['temp','humidity','windspeed','casual','registered']],copy=False)"
   ]
  },
  {
   "cell_type": "code",
   "execution_count": 23,
   "metadata": {},
   "outputs": [
    {
     "data": {
      "text/plain": [
       "array([[-1.33366069,  0.99321305, -1.56775367, -0.66099193, -0.94385353],\n",
       "       [-1.43890721,  0.94124921, -1.56775367, -0.56090822, -0.81805246],\n",
       "       [-1.43890721,  0.94124921, -1.56775367, -0.62095844, -0.851158  ],\n",
       "       ...,\n",
       "       [-0.80742813, -0.04606385,  0.26970368, -0.64097518,  0.05593396],\n",
       "       [-0.80742813, -0.04606385, -0.83244247, -0.48084125, -0.25525818],\n",
       "       [-0.91267464,  0.21375537, -0.46560752, -0.64097518, -0.47375478]])"
      ]
     },
     "execution_count": 23,
     "metadata": {},
     "output_type": "execute_result"
    }
   ],
   "source": [
    "#scale takes the difference of each values from the mean and divide by standard deviation \n",
    "num_scaled"
   ]
  },
  {
   "cell_type": "raw",
   "metadata": {},
   "source": [
    "###Preparing Data for t-test \n",
    "\n",
    "Now we will perform t-test to check whether the number of bike rentals are dependent on workingday or not. For this we will use two sample t-test. \n",
    "\n",
    "Two sample t-test is used to check whether the means of two samples(group) are same or different. \n",
    "We want to check whether the number of bikes rented on working day are different then number of bikes rented on non- working days."
   ]
  },
  {
   "cell_type": "code",
   "execution_count": 24,
   "metadata": {},
   "outputs": [
    {
     "data": {
      "text/html": [
       "<div>\n",
       "<style scoped>\n",
       "    .dataframe tbody tr th:only-of-type {\n",
       "        vertical-align: middle;\n",
       "    }\n",
       "\n",
       "    .dataframe tbody tr th {\n",
       "        vertical-align: top;\n",
       "    }\n",
       "\n",
       "    .dataframe thead th {\n",
       "        text-align: right;\n",
       "    }\n",
       "</style>\n",
       "<table border=\"1\" class=\"dataframe\">\n",
       "  <thead>\n",
       "    <tr style=\"text-align: right;\">\n",
       "      <th></th>\n",
       "      <th>count</th>\n",
       "      <th>mean</th>\n",
       "      <th>std</th>\n",
       "      <th>min</th>\n",
       "      <th>25%</th>\n",
       "      <th>50%</th>\n",
       "      <th>75%</th>\n",
       "      <th>max</th>\n",
       "    </tr>\n",
       "    <tr>\n",
       "      <th>workingday</th>\n",
       "      <th></th>\n",
       "      <th></th>\n",
       "      <th></th>\n",
       "      <th></th>\n",
       "      <th></th>\n",
       "      <th></th>\n",
       "      <th></th>\n",
       "      <th></th>\n",
       "    </tr>\n",
       "  </thead>\n",
       "  <tbody>\n",
       "    <tr>\n",
       "      <th>0</th>\n",
       "      <td>3474.0</td>\n",
       "      <td>188.506621</td>\n",
       "      <td>173.724015</td>\n",
       "      <td>1.0</td>\n",
       "      <td>44.0</td>\n",
       "      <td>128.0</td>\n",
       "      <td>304.0</td>\n",
       "      <td>783.0</td>\n",
       "    </tr>\n",
       "    <tr>\n",
       "      <th>1</th>\n",
       "      <td>7412.0</td>\n",
       "      <td>193.011873</td>\n",
       "      <td>184.513659</td>\n",
       "      <td>1.0</td>\n",
       "      <td>41.0</td>\n",
       "      <td>151.0</td>\n",
       "      <td>277.0</td>\n",
       "      <td>977.0</td>\n",
       "    </tr>\n",
       "  </tbody>\n",
       "</table>\n",
       "</div>"
      ],
      "text/plain": [
       "             count        mean         std  min   25%    50%    75%    max\n",
       "workingday                                                                \n",
       "0           3474.0  188.506621  173.724015  1.0  44.0  128.0  304.0  783.0\n",
       "1           7412.0  193.011873  184.513659  1.0  41.0  151.0  277.0  977.0"
      ]
     },
     "execution_count": 24,
     "metadata": {},
     "output_type": "execute_result"
    }
   ],
   "source": [
    "#Let's check the mean of bikes rented on working and non-working days\n",
    "df.groupby('workingday')['count'].describe()"
   ]
  },
  {
   "cell_type": "raw",
   "metadata": {},
   "source": [
    "We can see that mean on working days is 193.0 and mean on the non-working day is 188.5. \n",
    "Definitely we can see that there is difference in the means of working and non working days. \n",
    "But the quetsion is, is this difference in the mean stastically significant or was it just due to random chance ? Steps for performing hypothesis testing. \n",
    "\n",
    "1. set up Null Hypothesis (H0) \n",
    "2. State the alternate hypothesis (H1) \n",
    "3. Set a significance level (alpha) \n",
    "4. Calculate test Statistics. \n",
    "5. Decision to accept or reject null hypothesis."
   ]
  },
  {
   "cell_type": "code",
   "execution_count": 25,
   "metadata": {},
   "outputs": [],
   "source": [
    "#create 2 samples one for working days and one for non-working days \n",
    "sample_01 = df[df['workingday'] == 1] \n",
    "sample_02 = df[df['workingday'] == 0]"
   ]
  },
  {
   "cell_type": "code",
   "execution_count": 26,
   "metadata": {},
   "outputs": [
    {
     "name": "stdout",
     "output_type": "stream",
     "text": [
      "(7412, 10) (3474, 10)\n"
     ]
    }
   ],
   "source": [
    "#check the shape of both the samples\n",
    "print(sample_01.shape,sample_02.shape)"
   ]
  },
  {
   "cell_type": "code",
   "execution_count": null,
   "metadata": {},
   "outputs": [],
   "source": [
    "sample_01 have 7412 observations whereas sample_02 only have 3474 obsrvations. \n",
    "We have to take equal number of observations in both the sample."
   ]
  },
  {
   "cell_type": "code",
   "execution_count": 27,
   "metadata": {},
   "outputs": [
    {
     "name": "stdout",
     "output_type": "stream",
     "text": [
      "(3474, 10) (3474, 10)\n"
     ]
    }
   ],
   "source": [
    "#make equal number of records in each sample \n",
    "sample_01 = sample_01.sample(3474) \n",
    "print(sample_01.shape,sample_02.shape)"
   ]
  },
  {
   "cell_type": "code",
   "execution_count": null,
   "metadata": {},
   "outputs": [],
   "source": [
    "Before directly jumping for hypothesis testing we have to check for different assumptions related to the kind of hypothesis test we want to perform. \n",
    "\n",
    "##Assumption for T-Test \n",
    "1. The variances of the 2 samples are equal(We will use Levene's test to check this assumption). \n",
    "2. The distrubtion of the residuals b/w the two groups should follow the normal distribution. \n",
    "We can plot histogram and see whether the distribution follows the normal distribution or not. We can also plot a Q-Q plot. \n",
    "We can check the normality using shapiro-wilks test as well."
   ]
  },
  {
   "cell_type": "code",
   "execution_count": null,
   "metadata": {},
   "outputs": [],
   "source": [
    "#Levene's test to check whether the variances of the two group are same. \n",
    "#H0 : Variances are same. \n",
    "#H1 : Variances are not same. \n",
    "#Alpha = 0.05% \n",
    "#if p-value > alpha (Cannot reject H0) \n",
    "#if p-value < alpha (Accept null hypothesis)"
   ]
  },
  {
   "cell_type": "code",
   "execution_count": 28,
   "metadata": {},
   "outputs": [
    {
     "name": "stdout",
     "output_type": "stream",
     "text": [
      " Test statistics : 0.0 \n",
      " Alpha : 0.05 \n",
      " P-value : 1.0\n",
      " Variances are same accept null hypothesis \n"
     ]
    }
   ],
   "source": [
    "alpha = 0.05 \n",
    "Stats,Pvalue = stats.levene(sample_01['count'],sample_01['count']) \n",
    "print(f' Test statistics : {Stats} \\n Alpha : {alpha} \\n P-value : {Pvalue}') \n",
    "if Pvalue > alpha: \n",
    "    print(' Variances are same accept null hypothesis ') \n",
    "else: \n",
    "    print(' Variances are not same reject not null hypothesis ')"
   ]
  },
  {
   "cell_type": "raw",
   "metadata": {},
   "source": [
    "Here we have got 2 things: \n",
    "1. Test Statistics \n",
    "2. And p-value assosciated with test stastics. \n",
    "We can see that p-value(1.0) > alpha(0.05). So we fail to reject the null hypothesis. \n",
    "Variances of the 2 samples are equal."
   ]
  },
  {
   "cell_type": "raw",
   "metadata": {},
   "source": [
    "###Check for normality\n",
    "Take the difference between two samples and scale it to check the normality of the residuals."
   ]
  },
  {
   "cell_type": "code",
   "execution_count": 29,
   "metadata": {},
   "outputs": [
    {
     "data": {
      "image/png": "[encoded data removed]",
      "text/plain": [
       "<Figure size 864x432 with 1 Axes>"
      ]
     },
     "metadata": {
      "needs_background": "light"
     },
     "output_type": "display_data"
    }
   ],
   "source": [
    "#we will take the difference b/w sample_01 and sample_02 and plot a histogram to check for normality \n",
    "#we will scale the difference \n",
    "diff = scale((np.array(sample_01['count']) - np.array(sample_02['count']))) \n",
    "plt.figure(figsize=(12,6)) \n",
    "plt.hist(diff) \n",
    "plt.show()"
   ]
  },
  {
   "cell_type": "raw",
   "metadata": {},
   "source": [
    "The distribution seems very close to normal distribution. Let's check other methods to check the normality of the residuals. \n",
    "Q-Q plot, Generates the a probability of sample data against the quantiles of theoretical distributions."
   ]
  },
  {
   "cell_type": "code",
   "execution_count": 30,
   "metadata": {},
   "outputs": [
    {
     "data": {
      "image/png": "[encoded data removed]",
      "text/plain": [
       "<Figure size 864x432 with 1 Axes>"
      ]
     },
     "metadata": {
      "needs_background": "light"
     },
     "output_type": "display_data"
    }
   ],
   "source": [
    "#q-q plot to check the normality \n",
    "plt.figure(figsize=(12,6)) \n",
    "stats.probplot(diff,plot=plt,dist='norm') \n",
    "plt.show()"
   ]
  },
  {
   "cell_type": "raw",
   "metadata": {},
   "source": [
    "When the points are closely follows the redline we can say that the residulas are normally distributed.\n",
    "Here we see that after 2 standard deviation the points are scattered from redline. \n",
    "They doesn't follow the redline. But most of the data points are still close to the redline so we accept the assumption of normality. \n",
    "Till now we have seen graphical methods to represent to check the assumption of normality. \n",
    "Now let's check is it with statstical test (Shapiro-Wilk Test)"
   ]
  },
  {
   "cell_type": "code",
   "execution_count": null,
   "metadata": {},
   "outputs": [],
   "source": [
    "#Stastical test for checking normality \n",
    "#Shapiro-wilk test \n",
    "#H0 : Normally distributed \n",
    "#H1 : Not Normally distributed"
   ]
  },
  {
   "cell_type": "code",
   "execution_count": 31,
   "metadata": {},
   "outputs": [
    {
     "name": "stdout",
     "output_type": "stream",
     "text": [
      "Reject Null Hypothesis p-value : 1.3431059455058987e-15\n"
     ]
    }
   ],
   "source": [
    "alpha = 0.05 \n",
    "statistic,p_value = stats.shapiro(diff) \n",
    "if p_value > alpha: \n",
    "    print(f'Accept Null Hypothesis p-value : {p_value}') \n",
    "else: \n",
    "    print(f'Reject Null Hypothesis p-value : {p_value}')"
   ]
  },
  {
   "cell_type": "raw",
   "metadata": {},
   "source": [
    "Here shapiro wilk test shows that the residuals are not normally distributed. \n",
    "for demonstration purpose We will continue with t-test, but in practice we should not perform t-test when the assumption of normality is voilated."
   ]
  },
  {
   "cell_type": "code",
   "execution_count": 32,
   "metadata": {},
   "outputs": [
    {
     "name": "stdout",
     "output_type": "stream",
     "text": [
      "Fail to reject Null Hypothesis p-value is 0.5318219760637444\n"
     ]
    }
   ],
   "source": [
    "##Independent Sample T-test\n",
    "# H0 : There's no difference in mean (Bike rental doesn't depends on workingday) \n",
    "# H1 : There's a difference in mean (Bike rental depends on workingday) \n",
    "# Alpha : 0.05% \n",
    "alpha = 0.05 \n",
    "statistic , p_value = stats.ttest_ind(sample_01['count'],sample_02['count']) \n",
    "if p_value > alpha: \n",
    "    print(f'Fail to reject Null Hypothesis p-value is {p_value}') \n",
    "else: \n",
    "    print('Reject Null Hypothesis')"
   ]
  },
  {
   "cell_type": "code",
   "execution_count": null,
   "metadata": {},
   "outputs": [],
   "source": [
    "As we can see that the p-value is greater than alpha. So we can't reject our null hypothesis. \n",
    "working day has no effect on number of bikes rented."
   ]
  },
  {
   "cell_type": "markdown",
   "metadata": {},
   "source": [
    "# Comparing means, Student's t-test, ANOVA \n",
    "In this Notebook, we will examine the concept of comparing means between groups of data using Student's t-test and ANOVA."
   ]
  },
  {
   "cell_type": "code",
   "execution_count": 33,
   "metadata": {},
   "outputs": [],
   "source": [
    "import numpy as np \n",
    "import matplotlib.pyplot as plt \n",
    "import scipy.stats as st \n",
    "import seaborn as sns"
   ]
  },
  {
   "cell_type": "raw",
   "metadata": {},
   "source": [
    "#Let's Say any company 'ABC' class I.Q. test \n",
    "ABC company boss at a certain MNC claims that the employee in his company are above average intelligence. \n",
    "A random sample of 30 employee have a mean score of 112.5. \n",
    "Is there sufficient evidence to support an compay Boss claim? The mean population IQ is 100 with a standard deviation of 15."
   ]
  },
  {
   "cell_type": "raw",
   "metadata": {},
   "source": [
    "Some additional questions can also be asked to understand the impact of various quantities involved, \n",
    "\n",
    "What happens to our conclusion if the population mean is higher, say 107? \n",
    "What happens to our conclusion if the population standard deviation is lower, say 10? \n",
    "What happens if it is higher instead? \n",
    "What happens if there were only 4 employee who could be tested for the I.Q.? \n",
    "What if we could test 100 employee instead? \n",
    "What is the impact of changing the significance level to 0.01 from 0.05?"
   ]
  },
  {
   "cell_type": "code",
   "execution_count": 34,
   "metadata": {},
   "outputs": [],
   "source": [
    "population_mean = 100 \n",
    "population_std = 15 \n",
    "n_sample = 30"
   ]
  },
  {
   "cell_type": "code",
   "execution_count": null,
   "metadata": {},
   "outputs": [],
   "source": [
    "#Generate typical distribution of a Employee at company 'ABC'"
   ]
  },
  {
   "cell_type": "code",
   "execution_count": 35,
   "metadata": {},
   "outputs": [],
   "source": [
    "avg_class = np.vectorize(int)(np.random.normal(loc=population_mean,scale=population_std,size=n_sample))"
   ]
  },
  {
   "cell_type": "code",
   "execution_count": 36,
   "metadata": {},
   "outputs": [
    {
     "name": "stdout",
     "output_type": "stream",
     "text": [
      "A typical class I.Q.: [106 109  72  84  93  94 110  98 116  88 100  86  97  91 102 106 104  71\n",
      " 101  82 100  66 103  91 100 116 111 110  86 131]\n"
     ]
    }
   ],
   "source": [
    "print(\"A typical class I.Q.:\",avg_class)"
   ]
  },
  {
   "cell_type": "code",
   "execution_count": null,
   "metadata": {},
   "outputs": [],
   "source": [
    "#The given class data (generated with the given mean and assumed same variance as population)"
   ]
  },
  {
   "cell_type": "code",
   "execution_count": 37,
   "metadata": {},
   "outputs": [],
   "source": [
    "given_class = np.vectorize(int)(np.random.normal(loc=112.5,scale=population_std,size=n_sample))"
   ]
  },
  {
   "cell_type": "code",
   "execution_count": 38,
   "metadata": {},
   "outputs": [
    {
     "name": "stdout",
     "output_type": "stream",
     "text": [
      "Given class I.Q.: [111 106 126 100 100 103 109 115 113 124 128 106 118 117 114  98 108 104\n",
      "  96 114 122 105 122 119 127 112 131 119 128 100]\n"
     ]
    }
   ],
   "source": [
    "print(\"Given class I.Q.:\",given_class)"
   ]
  },
  {
   "cell_type": "code",
   "execution_count": 39,
   "metadata": {},
   "outputs": [
    {
     "data": {
      "image/png": "[encoded data removed]",
      "text/plain": [
       "<Figure size 504x360 with 1 Axes>"
      ]
     },
     "metadata": {
      "needs_background": "light"
     },
     "output_type": "display_data"
    }
   ],
   "source": [
    "plt.figure(figsize=(7,5)) \n",
    "sns.kdeplot(avg_class,shade=True) \n",
    "sns.kdeplot(given_class,shade=True) \n",
    "plt.legend(['Average class','Given class'],fontsize=14) \n",
    "plt.vlines(x=avg_class.mean(),ymin=0,ymax=0.025,color='blue',linestyle='--') \n",
    "plt.vlines(x=given_class.mean(),ymin=0,ymax=0.025,color='brown',linestyle='--') \n",
    "plt.show()"
   ]
  },
  {
   "cell_type": "code",
   "execution_count": 40,
   "metadata": {},
   "outputs": [
    {
     "name": "stdout",
     "output_type": "stream",
     "text": [
      "Standard error of the mean: 2.7386127875258306\n",
      "Z-statistic: 4.80778689365646\n"
     ]
    }
   ],
   "source": [
    "std_err = population_std/np.sqrt(n_sample) \n",
    "z_stat = (given_class.mean()-population_mean)/std_err \n",
    "print(\"Standard error of the mean:\",std_err) \n",
    "print(\"Z-statistic:\",z_stat)"
   ]
  },
  {
   "cell_type": "code",
   "execution_count": 41,
   "metadata": {},
   "outputs": [],
   "source": [
    "alpha = 0.05 \n",
    "rejection_threshold = st.norm.ppf(1-alpha)"
   ]
  },
  {
   "cell_type": "code",
   "execution_count": 42,
   "metadata": {},
   "outputs": [
    {
     "name": "stdout",
     "output_type": "stream",
     "text": [
      "We reject the NULL hypothesis. The class I.Q. is indeed above average\n"
     ]
    }
   ],
   "source": [
    "if z_stat>rejection_threshold: \n",
    "    print(\"We reject the NULL hypothesis. The class I.Q. is indeed above average\") \n",
    "else:\n",
    "    print(\"We cannot reject the NULL hypothesis that class average is same as population average.\")"
   ]
  },
  {
   "cell_type": "code",
   "execution_count": 43,
   "metadata": {},
   "outputs": [],
   "source": [
    "def hypothesis_testing(n_sample=30,population_mean=100,population_std=15,alpha=0.05):\n",
    "    \"\"\" Tests the hypothesis of above average I.Q. and reports the conclusion \"\"\"\n",
    "    given_class=np.vectorize(int)(np.random.normal(loc=112.5,scale=population_std,size=n_sample))\n",
    "    \n",
    "    std_err = population_std/np.sqrt(n_sample) \n",
    "    z_stat = (given_class.mean()-population_mean)/std_err\n",
    "    \n",
    "    alpha = 0.05 \n",
    "    rejection_threshold = st.norm.ppf(1-alpha)\n",
    "    \n",
    "    if z_stat>rejection_threshold: \n",
    "        print(\"We reject the NULL hypothesis. The class I.Q. is indeed above average\") \n",
    "    else:\n",
    "        print(\"We cannot reject the NULL hypothesis that class average is same as population average.\")"
   ]
  },
  {
   "cell_type": "code",
   "execution_count": 44,
   "metadata": {},
   "outputs": [
    {
     "name": "stdout",
     "output_type": "stream",
     "text": [
      "We reject the NULL hypothesis. The class I.Q. is indeed above average\n"
     ]
    }
   ],
   "source": [
    "#Test with default values\n",
    "hypothesis_testing()"
   ]
  },
  {
   "cell_type": "code",
   "execution_count": 45,
   "metadata": {},
   "outputs": [
    {
     "name": "stdout",
     "output_type": "stream",
     "text": [
      "We reject the NULL hypothesis. The class I.Q. is indeed above average\n"
     ]
    }
   ],
   "source": [
    "#What if the population mean is higher 110?\n",
    "hypothesis_testing(population_mean=107)"
   ]
  },
  {
   "cell_type": "code",
   "execution_count": 46,
   "metadata": {},
   "outputs": [
    {
     "name": "stdout",
     "output_type": "stream",
     "text": [
      "We reject the NULL hypothesis. The class I.Q. is indeed above average\n"
     ]
    }
   ],
   "source": [
    "#What if the population standard deviation is lower, say 10? What happens if it is higher instead?\n",
    "hypothesis_testing(population_std=10)"
   ]
  },
  {
   "cell_type": "code",
   "execution_count": 47,
   "metadata": {},
   "outputs": [
    {
     "name": "stdout",
     "output_type": "stream",
     "text": [
      "We reject the NULL hypothesis. The class I.Q. is indeed above average\n"
     ]
    }
   ],
   "source": [
    "hypothesis_testing(population_std=40)"
   ]
  },
  {
   "cell_type": "code",
   "execution_count": 48,
   "metadata": {},
   "outputs": [
    {
     "name": "stdout",
     "output_type": "stream",
     "text": [
      "We reject the NULL hypothesis. The class I.Q. is indeed above average\n"
     ]
    }
   ],
   "source": [
    "#What if there were only 4 employee from ABC company? What if we could test 100 employee instead?\n",
    "hypothesis_testing(n_sample=4)"
   ]
  },
  {
   "cell_type": "code",
   "execution_count": 49,
   "metadata": {},
   "outputs": [
    {
     "name": "stdout",
     "output_type": "stream",
     "text": [
      "We reject the NULL hypothesis. The class I.Q. is indeed above average\n"
     ]
    }
   ],
   "source": [
    "hypothesis_testing(n_sample=100)"
   ]
  },
  {
   "cell_type": "code",
   "execution_count": 50,
   "metadata": {},
   "outputs": [
    {
     "name": "stdout",
     "output_type": "stream",
     "text": [
      "We reject the NULL hypothesis. The class I.Q. is indeed above average\n"
     ]
    }
   ],
   "source": [
    "#What is the impact of changing the significance level to 0.01 (or even 0.001) from 0.05?\n",
    "hypothesis_testing(alpha=0.01)"
   ]
  },
  {
   "cell_type": "code",
   "execution_count": 51,
   "metadata": {},
   "outputs": [
    {
     "name": "stdout",
     "output_type": "stream",
     "text": [
      "We reject the NULL hypothesis. The class I.Q. is indeed above average\n"
     ]
    }
   ],
   "source": [
    "hypothesis_testing(alpha=0.001)"
   ]
  },
  {
   "cell_type": "markdown",
   "metadata": {},
   "source": [
    "# Independent Student's t-test implementation"
   ]
  },
  {
   "cell_type": "code",
   "execution_count": 3,
   "metadata": {},
   "outputs": [],
   "source": [
    "def independent_ttest(data1, data2, alpha=0.05): \n",
    "    \"\"\" Student's t-test for independent groups \n",
    "    \n",
    "    Argument: \n",
    "        data1: First group data in numpy array format \n",
    "        data2: Second group two data in numpy array format \n",
    "        alpha: Significance level \n",
    "        \n",
    "    Returns: \n",
    "    t_stat: Computed t-statistic \n",
    "    df: Degrees of freedom \n",
    "    cv: Critical value \n",
    "    p: p-value (of NULL hypothesis) \"\"\" \n",
    "    \n",
    "    import scipy.stats as st \n",
    "    # calculate means \n",
    "    mean1, mean2 = np.mean(data1), np.mean(data2) \n",
    "    # calculate standard errors \n",
    "    se1, se2 = st.sem(data1), st.sem(data2) \n",
    "    # standard error on the difference between the samples \n",
    "    sed = np.sqrt(se1**2.0 + se2**2.0) \n",
    "    # calculate the t statistic \n",
    "    t_stat = (mean1 - mean2) / sed \n",
    "    # degrees of freedom\n",
    "    df = len(data1) + len(data2) - 2 \n",
    "    # calculate the critical value \n",
    "    cv = st.t.ppf(1.0 - alpha, df) \n",
    "    # calculate the p-value \n",
    "    p = (1.0 - st.t.cdf(abs(t_stat), df)) * 2.0 \n",
    "    # return everything \n",
    "    return t_stat, df, cv, p"
   ]
  },
  {
   "cell_type": "code",
   "execution_count": 4,
   "metadata": {},
   "outputs": [],
   "source": [
    "#Apply the function for testing hypothesis of equal mean\n",
    "n_sample = 20"
   ]
  },
  {
   "cell_type": "code",
   "execution_count": 6,
   "metadata": {},
   "outputs": [],
   "source": [
    "import numpy as np\n",
    "data1 = 5 * np.random.randn(n_sample) + 50 \n",
    "data2 = 5 * np.random.randn(n_sample) + 51"
   ]
  },
  {
   "cell_type": "code",
   "execution_count": 8,
   "metadata": {},
   "outputs": [
    {
     "data": {
      "image/png": "[encoded data removed]",
      "text/plain": [
       "<Figure size 504x360 with 1 Axes>"
      ]
     },
     "metadata": {
      "needs_background": "light"
     },
     "output_type": "display_data"
    }
   ],
   "source": [
    "import seaborn as sns\n",
    "from matplotlib import pyplot as plt\n",
    "plt.figure(figsize=(7,5)) \n",
    "sns.kdeplot(data1,shade=True) \n",
    "sns.kdeplot(data2,shade=True) \n",
    "plt.legend(['data1','data2'],fontsize=14) \n",
    "plt.vlines(x=data1.mean(),ymin=0,ymax=0.09,color='blue',linestyle='--') \n",
    "plt.vlines(x=data2.mean(),ymin=0,ymax=0.09,color='brown',linestyle='--') \n",
    "plt.show()"
   ]
  },
  {
   "cell_type": "code",
   "execution_count": 9,
   "metadata": {},
   "outputs": [
    {
     "name": "stdout",
     "output_type": "stream",
     "text": [
      "t=0.038, df=38, cv=1.686, p=0.970\n",
      "\n"
     ]
    }
   ],
   "source": [
    "# calculate the t test \n",
    "alpha = 0.05 \n",
    "t_stat, df, cv, p = independent_ttest(data1, data2, alpha) \n",
    "print('t=%.3f, df=%d, cv=%.3f, p=%.3f' % (t_stat, df, cv, p)) \n",
    "print()"
   ]
  },
  {
   "cell_type": "code",
   "execution_count": 10,
   "metadata": {},
   "outputs": [
    {
     "name": "stdout",
     "output_type": "stream",
     "text": [
      "Fail to reject null hypothesis that the means are equal.\n"
     ]
    }
   ],
   "source": [
    "# interpret via critical value \n",
    "if abs(t_stat) <= cv: \n",
    "    print('Fail to reject null hypothesis that the means are equal.') \n",
    "else:\n",
    "    print('Reject the null hypothesis that the means are equal.')"
   ]
  },
  {
   "cell_type": "code",
   "execution_count": 11,
   "metadata": {},
   "outputs": [
    {
     "name": "stdout",
     "output_type": "stream",
     "text": [
      "Fail to reject null hypothesis that the means are equal.\n"
     ]
    }
   ],
   "source": [
    "# interpret via p-value \n",
    "if p > alpha: \n",
    "    print('Fail to reject null hypothesis that the means are equal.') \n",
    "else:\n",
    "    print('Reject the null hypothesis that the means are equal.')"
   ]
  },
  {
   "cell_type": "code",
   "execution_count": 12,
   "metadata": {},
   "outputs": [],
   "source": [
    "n_sample = 200"
   ]
  },
  {
   "cell_type": "code",
   "execution_count": 13,
   "metadata": {},
   "outputs": [],
   "source": [
    "import numpy as np\n",
    "data1 = 5 * np.random.randn(n_sample) + 50 \n",
    "data2 = 5 * np.random.randn(n_sample) + 51"
   ]
  },
  {
   "cell_type": "code",
   "execution_count": 14,
   "metadata": {},
   "outputs": [
    {
     "data": {
      "image/png": "[encoded data removed]",
      "text/plain": [
       "<Figure size 504x360 with 1 Axes>"
      ]
     },
     "metadata": {
      "needs_background": "light"
     },
     "output_type": "display_data"
    }
   ],
   "source": [
    "import seaborn as sns\n",
    "from matplotlib import pyplot as plt\n",
    "plt.figure(figsize=(7,5)) \n",
    "sns.kdeplot(data1,shade=True) \n",
    "sns.kdeplot(data2,shade=True) \n",
    "plt.legend(['data1','data2'],fontsize=14) \n",
    "plt.vlines(x=data1.mean(),ymin=0,ymax=0.09,color='blue',linestyle='--') \n",
    "plt.vlines(x=data2.mean(),ymin=0,ymax=0.09,color='brown',linestyle='--') \n",
    "plt.show()"
   ]
  },
  {
   "cell_type": "code",
   "execution_count": 15,
   "metadata": {},
   "outputs": [
    {
     "name": "stdout",
     "output_type": "stream",
     "text": [
      "t=-0.904, df=398, cv=1.649, p=0.367\n",
      "\n"
     ]
    }
   ],
   "source": [
    "# calculate the t test \n",
    "alpha = 0.05 \n",
    "t_stat, df, cv, p = independent_ttest(data1, data2, alpha) \n",
    "print('t=%.3f, df=%d, cv=%.3f, p=%.3f' % (t_stat, df, cv, p)) \n",
    "print()"
   ]
  },
  {
   "cell_type": "code",
   "execution_count": 16,
   "metadata": {},
   "outputs": [
    {
     "name": "stdout",
     "output_type": "stream",
     "text": [
      "Fail to reject null hypothesis that the means are equal.\n"
     ]
    }
   ],
   "source": [
    "# interpret via critical value \n",
    "if abs(t_stat) <= cv: \n",
    "    print('Fail to reject null hypothesis that the means are equal.') \n",
    "else:\n",
    "    print('Reject the null hypothesis that the means are equal.')"
   ]
  },
  {
   "cell_type": "code",
   "execution_count": 17,
   "metadata": {},
   "outputs": [
    {
     "name": "stdout",
     "output_type": "stream",
     "text": [
      "Fail to reject null hypothesis that the means are equal.\n"
     ]
    }
   ],
   "source": [
    "# interpret via p-value \n",
    "if p > alpha: \n",
    "    print('Fail to reject null hypothesis that the means are equal.') \n",
    "else:\n",
    "    print('Reject the null hypothesis that the means are equal.')"
   ]
  },
  {
   "cell_type": "markdown",
   "metadata": {},
   "source": [
    "# ANOVA using Scipy (f_oneway() method)"
   ]
  },
  {
   "cell_type": "code",
   "execution_count": 18,
   "metadata": {},
   "outputs": [],
   "source": [
    "n_sample = 50"
   ]
  },
  {
   "cell_type": "code",
   "execution_count": 19,
   "metadata": {},
   "outputs": [],
   "source": [
    "group1 = 5 * np.random.randn(n_sample) + 50 \n",
    "group2 = 5 * np.random.randn(n_sample) + 52"
   ]
  },
  {
   "cell_type": "code",
   "execution_count": 21,
   "metadata": {},
   "outputs": [
    {
     "data": {
      "image/png": "[encoded data removed]",
      "text/plain": [
       "<Figure size 504x360 with 1 Axes>"
      ]
     },
     "metadata": {
      "needs_background": "light"
     },
     "output_type": "display_data"
    }
   ],
   "source": [
    "plt.figure(figsize=(7,5) ) \n",
    "sns.kdeplot(group1,shade=True) \n",
    "sns.kdeplot(group2,shade=True) \n",
    "plt.legend(['group1','group2'],fontsize=14) \n",
    "plt.vlines(x=group1.mean(),ymin=0,ymax=0.09,color='blue',linestyle='--') \n",
    "plt.vlines(x=group2.mean(),ymin=0,ymax=0.09,color='brown',linestyle='--') \n",
    "plt.show()"
   ]
  },
  {
   "cell_type": "code",
   "execution_count": 22,
   "metadata": {},
   "outputs": [
    {
     "data": {
      "image/png": "[encoded data removed]",
      "text/plain": [
       "<Figure size 504x360 with 1 Axes>"
      ]
     },
     "metadata": {
      "needs_background": "light"
     },
     "output_type": "display_data"
    }
   ],
   "source": [
    "plt.figure(figsize=(7,5)) \n",
    "sns.boxplot(data=[group1,group2]) \n",
    "sns.swarmplot(data=[group1,group2],color='.2') \n",
    "plt.legend(['group1','gropu2'],fontsize=14) \n",
    "plt.show()"
   ]
  },
  {
   "cell_type": "code",
   "execution_count": 23,
   "metadata": {},
   "outputs": [
    {
     "ename": "NameError",
     "evalue": "name 'st' is not defined",
     "output_type": "error",
     "traceback": [
      "\u001b[1;31m---------------------------------------------------------------------------\u001b[0m",
      "\u001b[1;31mNameError\u001b[0m                                 Traceback (most recent call last)",
      "\u001b[1;32m<ipython-input-23-4756e4680a67>\u001b[0m in \u001b[0;36m<module>\u001b[1;34m\u001b[0m\n\u001b[1;32m----> 1\u001b[1;33m \u001b[0mf\u001b[0m\u001b[1;33m,\u001b[0m\u001b[0mp\u001b[0m\u001b[1;33m=\u001b[0m\u001b[0mst\u001b[0m\u001b[1;33m.\u001b[0m\u001b[0mf_oneway\u001b[0m\u001b[1;33m(\u001b[0m\u001b[0mgroup1\u001b[0m\u001b[1;33m,\u001b[0m\u001b[0mgroup2\u001b[0m\u001b[1;33m)\u001b[0m\u001b[1;33m\u001b[0m\u001b[1;33m\u001b[0m\u001b[0m\n\u001b[0m",
      "\u001b[1;31mNameError\u001b[0m: name 'st' is not defined"
     ]
    }
   ],
   "source": [
    "f,p=st.f_oneway(group1,group2)"
   ]
  },
  {
   "cell_type": "code",
   "execution_count": null,
   "metadata": {},
   "outputs": [],
   "source": []
  }
 ],
 "metadata": {
  "kernelspec": {
   "display_name": "Python 3",
   "language": "python",
   "name": "python3"
  },
  "language_info": {
   "codemirror_mode": {
    "name": "ipython",
    "version": 3
   },
   "file_extension": ".py",
   "mimetype": "text/x-python",
   "name": "python",
   "nbconvert_exporter": "python",
   "pygments_lexer": "ipython3",
   "version": "3.7.6"
  }
 },
 "nbformat": 4,
 "nbformat_minor": 4
}
