{
 "cells": [
  {
   "cell_type": "code",
   "execution_count": 1,
   "metadata": {},
   "outputs": [],
   "source": [
    "from __future__ import print_function\n",
    "import numpy as np\n",
    "import statsmodels.api as sm\n",
    "from scipy import stats\n",
    "from matplotlib import pyplot as plt\n",
    "%matplotlib inline"
   ]
  },
  {
   "cell_type": "code",
   "execution_count": null,
   "metadata": {},
   "outputs": [],
   "source": [
    "# GLM: Binomial response data\n",
    "Load data"
   ]
  },
  {
   "cell_type": "code",
   "execution_count": 2,
   "metadata": {},
   "outputs": [
    {
     "name": "stdout",
     "output_type": "stream",
     "text": [
      "::\n",
      "\n",
      "    Number of Observations - 303 (counties in California).\n",
      "\n",
      "    Number of Variables - 13 and 8 interaction terms.\n",
      "\n",
      "    Definition of variables names::\n",
      "\n",
      "        NABOVE   - Total number of students above the national median for the\n",
      "                   math section.\n",
      "        NBELOW   - Total number of students below the national median for the\n",
      "                   math section.\n",
      "        LOWINC   - Percentage of low income students\n",
      "        PERASIAN - Percentage of Asian student\n",
      "        PERBLACK - Percentage of black students\n",
      "        PERHISP  - Percentage of Hispanic students\n",
      "        PERMINTE - Percentage of minority teachers\n",
      "        AVYRSEXP - Sum of teachers' years in educational service divided by the\n",
      "                number of teachers.\n",
      "        AVSALK   - Total salary budget including benefits divided by the number\n",
      "                   of full-time teachers (in thousands)\n",
      "        PERSPENK - Per-pupil spending (in thousands)\n",
      "        PTRATIO  - Pupil-teacher ratio.\n",
      "        PCTAF    - Percentage of students taking UC/CSU prep courses\n",
      "        PCTCHRT  - Percentage of charter schools\n",
      "        PCTYRRND - Percentage of year-round schools\n",
      "\n",
      "        The below variables are interaction terms of the variables defined\n",
      "        above.\n",
      "\n",
      "        PERMINTE_AVYRSEXP\n",
      "        PEMINTE_AVSAL\n",
      "        AVYRSEXP_AVSAL\n",
      "        PERSPEN_PTRATIO\n",
      "        PERSPEN_PCTAF\n",
      "        PTRATIO_PCTAF\n",
      "        PERMINTE_AVTRSEXP_AVSAL\n",
      "        PERSPEN_PTRATIO_PCTAF\n",
      "\n"
     ]
    }
   ],
   "source": [
    "print(sm.datasets.star98.NOTE)"
   ]
  },
  {
   "cell_type": "code",
   "execution_count": 3,
   "metadata": {},
   "outputs": [],
   "source": [
    "# Load the data and add a constant to the exogenous (independent) variables:\n",
    "data = sm.datasets.star98.load()\n",
    "data.exog = sm.add_constant(data.exog, prepend=False)"
   ]
  },
  {
   "cell_type": "code",
   "execution_count": 4,
   "metadata": {},
   "outputs": [
    {
     "name": "stdout",
     "output_type": "stream",
     "text": [
      "[[452. 355.]\n",
      " [144.  40.]\n",
      " [337. 234.]\n",
      " [395. 178.]\n",
      " [  8.  57.]]\n"
     ]
    }
   ],
   "source": [
    "print(data.endog[:5,:])"
   ]
  },
  {
   "cell_type": "code",
   "execution_count": 5,
   "metadata": {},
   "outputs": [
    {
     "name": "stdout",
     "output_type": "stream",
     "text": [
      "[[3.43973000e+01 2.32993000e+01 1.42352800e+01 1.14111200e+01\n",
      "  1.59183700e+01 1.47064600e+01 5.91573200e+01 4.44520700e+00\n",
      "  2.17102500e+01 5.70327600e+01 0.00000000e+00 2.22222200e+01\n",
      "  2.34102872e+02 9.41688110e+02 8.69994800e+02 9.65065600e+01\n",
      "  2.53522420e+02 1.23819550e+03 1.38488985e+04 5.50403520e+03\n",
      "  1.00000000e+00]\n",
      " [1.73650700e+01 2.93283800e+01 8.23489700e+00 9.31488400e+00\n",
      "  1.36363600e+01 1.60832400e+01 5.95039700e+01 5.26759800e+00\n",
      "  2.04427800e+01 6.46226400e+01 0.00000000e+00 0.00000000e+00\n",
      "  2.19316851e+02 8.11417560e+02 9.57016600e+02 1.07684350e+02\n",
      "  3.40406090e+02 1.32106640e+03 1.30502233e+04 6.95884680e+03\n",
      "  1.00000000e+00]]\n"
     ]
    }
   ],
   "source": [
    "print(data.exog[:2,:])"
   ]
  },
  {
   "cell_type": "code",
   "execution_count": 6,
   "metadata": {},
   "outputs": [
    {
     "name": "stdout",
     "output_type": "stream",
     "text": [
      "                 Generalized Linear Model Regression Results                  \n",
      "==============================================================================\n",
      "Dep. Variable:           ['y1', 'y2']   No. Observations:                  303\n",
      "Model:                            GLM   Df Residuals:                      282\n",
      "Model Family:                Binomial   Df Model:                           20\n",
      "Link Function:                  logit   Scale:                          1.0000\n",
      "Method:                          IRLS   Log-Likelihood:                -2998.6\n",
      "Date:                Sun, 17 Mar 2019   Deviance:                       4078.8\n",
      "Time:                        20:05:37   Pearson chi2:                 4.05e+03\n",
      "No. Iterations:                     5   Covariance Type:             nonrobust\n",
      "==============================================================================\n",
      "                 coef    std err          z      P>|z|      [0.025      0.975]\n",
      "------------------------------------------------------------------------------\n",
      "x1            -0.0168      0.000    -38.749      0.000      -0.018      -0.016\n",
      "x2             0.0099      0.001     16.505      0.000       0.009       0.011\n",
      "x3            -0.0187      0.001    -25.182      0.000      -0.020      -0.017\n",
      "x4            -0.0142      0.000    -32.818      0.000      -0.015      -0.013\n",
      "x5             0.2545      0.030      8.498      0.000       0.196       0.313\n",
      "x6             0.2407      0.057      4.212      0.000       0.129       0.353\n",
      "x7             0.0804      0.014      5.775      0.000       0.053       0.108\n",
      "x8            -1.9522      0.317     -6.162      0.000      -2.573      -1.331\n",
      "x9            -0.3341      0.061     -5.453      0.000      -0.454      -0.214\n",
      "x10           -0.1690      0.033     -5.169      0.000      -0.233      -0.105\n",
      "x11            0.0049      0.001      3.921      0.000       0.002       0.007\n",
      "x12           -0.0036      0.000    -15.878      0.000      -0.004      -0.003\n",
      "x13           -0.0141      0.002     -7.391      0.000      -0.018      -0.010\n",
      "x14           -0.0040      0.000     -8.450      0.000      -0.005      -0.003\n",
      "x15           -0.0039      0.001     -4.059      0.000      -0.006      -0.002\n",
      "x16            0.0917      0.015      6.321      0.000       0.063       0.120\n",
      "x17            0.0490      0.007      6.574      0.000       0.034       0.064\n",
      "x18            0.0080      0.001      5.362      0.000       0.005       0.011\n",
      "x19            0.0002   2.99e-05      7.428      0.000       0.000       0.000\n",
      "x20           -0.0022      0.000     -6.445      0.000      -0.003      -0.002\n",
      "const          2.9589      1.547      1.913      0.056      -0.073       5.990\n",
      "==============================================================================\n"
     ]
    }
   ],
   "source": [
    "#Fit and summary\n",
    "glm_binom = sm.GLM(data.endog, data.exog, family=sm.families.Binomial())\n",
    "res = glm_binom.fit()\n",
    "print(res.summary())"
   ]
  },
  {
   "cell_type": "code",
   "execution_count": 7,
   "metadata": {},
   "outputs": [
    {
     "name": "stdout",
     "output_type": "stream",
     "text": [
      "Total number of trials: 807.0\n",
      "Parameters:  [-1.68150366e-02  9.92547661e-03 -1.87242148e-02 -1.42385609e-02\n",
      "  2.54487173e-01  2.40693664e-01  8.04086739e-02 -1.95216050e+00\n",
      " -3.34086475e-01 -1.69022168e-01  4.91670212e-03 -3.57996435e-03\n",
      " -1.40765648e-02 -4.00499176e-03 -3.90639579e-03  9.17143006e-02\n",
      "  4.89898381e-02  8.04073890e-03  2.22009503e-04 -2.24924861e-03\n",
      "  2.95887793e+00]\n",
      "T-values:  [-38.74908321  16.50473627 -25.1821894  -32.81791308   8.49827113\n",
      "   4.21247925   5.7749976   -6.16191078  -5.45321673  -5.16865445\n",
      "   3.92119964 -15.87825999  -7.39093058  -8.44963886  -4.05916246\n",
      "   6.3210987    6.57434662   5.36229044   7.42806363  -6.44513698\n",
      "   1.91301155]\n"
     ]
    }
   ],
   "source": [
    "print('Total number of trials:',  data.endog[0].sum())\n",
    "print('Parameters: ', res.params)\n",
    "print('T-values: ', res.tvalues)"
   ]
  },
  {
   "cell_type": "markdown",
   "metadata": {},
   "source": [
    "First differences: We hold all explanatory variables constant at their means and manipulate the percentage of low income households to assess its impact on the response variables:"
   ]
  },
  {
   "cell_type": "code",
   "execution_count": 8,
   "metadata": {},
   "outputs": [
    {
     "name": "stderr",
     "output_type": "stream",
     "text": [
      "C:\\Users\\DELL\\Anaconda3\\lib\\site-packages\\scipy\\stats\\stats.py:1713: FutureWarning: Using a non-tuple sequence for multidimensional indexing is deprecated; use `arr[tuple(seq)]` instead of `arr[seq]`. In the future this will be interpreted as an array index, `arr[np.array(seq)]`, which will result either in an error or a different result.\n",
      "  return np.add.reduce(sorted[indexer] * weights, axis=axis) / sumval\n"
     ]
    }
   ],
   "source": [
    "means = data.exog.mean(axis=0)\n",
    "means25 = means.copy()\n",
    "means25[0] = stats.scoreatpercentile(data.exog[:,0], 25)\n",
    "means75 = means.copy()\n",
    "means75[0] = lowinc_75per = stats.scoreatpercentile(data.exog[:,0], 75)\n",
    "resp_25 = res.predict(means25)\n",
    "resp_75 = res.predict(means75)\n",
    "diff = resp_75 - resp_25"
   ]
  },
  {
   "cell_type": "code",
   "execution_count": 9,
   "metadata": {},
   "outputs": [
    {
     "name": "stdout",
     "output_type": "stream",
     "text": [
      "-11.8753%\n"
     ]
    }
   ],
   "source": [
    "#The interquartile first difference for the percentage of low income households in a school district is:\n",
    "\n",
    "print(\"%2.4f%%\" % (diff*100))"
   ]
  },
  {
   "cell_type": "code",
   "execution_count": 11,
   "metadata": {},
   "outputs": [],
   "source": [
    "# Plots\n",
    "nobs = res.nobs\n",
    "y = data.endog[:,0]/data.endog.sum(1)\n",
    "yhat = res.mu"
   ]
  },
  {
   "cell_type": "code",
   "execution_count": 12,
   "metadata": {},
   "outputs": [],
   "source": [
    "#Plot yhat vs y:\n",
    "from statsmodels.graphics.api import abline_plot"
   ]
  },
  {
   "cell_type": "code",
   "execution_count": 13,
   "metadata": {},
   "outputs": [
    {
     "data": {
      "image/png": "[encoded data removed]",
      "text/plain": [
       "<Figure size 432x288 with 1 Axes>"
      ]
     },
     "metadata": {
      "needs_background": "light"
     },
     "output_type": "display_data"
    }
   ],
   "source": [
    "fig, ax = plt.subplots()\n",
    "ax.scatter(yhat, y)\n",
    "line_fit = sm.OLS(y, sm.add_constant(yhat, prepend=True)).fit()\n",
    "abline_plot(model_results=line_fit, ax=ax)\n",
    "\n",
    "\n",
    "ax.set_title('Model Fit Plot')\n",
    "ax.set_ylabel('Observed values')\n",
    "ax.set_xlabel('Fitted values');"
   ]
  },
  {
   "cell_type": "code",
   "execution_count": 14,
   "metadata": {},
   "outputs": [
    {
     "data": {
      "text/plain": [
       "Text(0.5, 0, 'Fitted values')"
      ]
     },
     "execution_count": 14,
     "metadata": {},
     "output_type": "execute_result"
    },
    {
     "data": {
      "image/png": "[encoded data removed]",
      "text/plain": [
       "<Figure size 432x288 with 1 Axes>"
      ]
     },
     "metadata": {
      "needs_background": "light"
     },
     "output_type": "display_data"
    }
   ],
   "source": [
    "# Plot yhat vs. Pearson residuals:\n",
    "fig, ax = plt.subplots()\n",
    "\n",
    "ax.scatter(yhat, res.resid_pearson)\n",
    "ax.hlines(0, 0, 1)\n",
    "ax.set_xlim(0, 1)\n",
    "ax.set_title('Residual Dependence Plot')\n",
    "ax.set_ylabel('Pearson Residuals')\n",
    "ax.set_xlabel('Fitted values')"
   ]
  },
  {
   "cell_type": "code",
   "execution_count": 16,
   "metadata": {},
   "outputs": [
    {
     "data": {
      "image/png": "[encoded data removed]",
      "text/plain": [
       "<Figure size 432x288 with 1 Axes>"
      ]
     },
     "execution_count": 16,
     "metadata": {},
     "output_type": "execute_result"
    },
    {
     "data": {
      "image/png": "[encoded data removed]",
      "text/plain": [
       "<Figure size 432x288 with 1 Axes>"
      ]
     },
     "metadata": {
      "needs_background": "light"
     },
     "output_type": "display_data"
    }
   ],
   "source": [
    "#QQ Plot of Deviance Residuals:\n",
    "from statsmodels import graphics\n",
    "graphics.gofplots.qqplot(res.resid_pearson, line='r')"
   ]
  },
  {
   "cell_type": "code",
   "execution_count": null,
   "metadata": {},
   "outputs": [],
   "source": []
  }
 ],
 "metadata": {
  "kernelspec": {
   "display_name": "Python 3",
   "language": "python",
   "name": "python3"
  },
  "language_info": {
   "codemirror_mode": {
    "name": "ipython",
    "version": 3
   },
   "file_extension": ".py",
   "mimetype": "text/x-python",
   "name": "python",
   "nbconvert_exporter": "python",
   "pygments_lexer": "ipython3",
   "version": "3.7.1"
  }
 },
 "nbformat": 4,
 "nbformat_minor": 2
}
